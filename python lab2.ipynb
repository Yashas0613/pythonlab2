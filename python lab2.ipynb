{
 "cells": [
  {
   "cell_type": "code",
   "execution_count": null,
   "id": "763ee2dd",
   "metadata": {},
   "outputs": [],
   "source": [
    "a = int(input('Enter the number '))\n",
    "if a>0:\n",
    "    print('The number is positive')\n",
    "elif a==0:\n",
    "    print('it is zero')\n",
    "else:\n",
    "    print('The number is negetive')"
   ]
  },
  {
   "cell_type": "code",
   "execution_count": null,
   "id": "55910c34",
   "metadata": {},
   "outputs": [],
   "source": [
    "a = int(input('Enter the number '))\n",
    "if a%2==0:\n",
    "    print('The number is even')\n",
    "else:\n",
    "    print('The number is odd')"
   ]
  },
  {
   "cell_type": "code",
   "execution_count": null,
   "id": "04dec7d7",
   "metadata": {},
   "outputs": [],
   "source": [
    "a = int(input('Enter the number '))\n",
    "if a>0:\n",
    "    print('The number is positive')\n",
    "if a==0:\n",
    "    print('it is zero')\n",
    "if a<0:\n",
    "    print('The number is negetive')"
   ]
  },
  {
   "cell_type": "code",
   "execution_count": null,
   "id": "a96487dc",
   "metadata": {},
   "outputs": [],
   "source": [
    "a = int(input('Enter the numbers '))\n",
    "b = int(input())\n",
    "c = int(input())\n",
    "if a>b:\n",
    "    if a>c:\n",
    "        print(str(a)+' is greater')\n",
    "    else:\n",
    "        print(str(c)+' is greater')\n",
    "else:\n",
    "    if b>c:\n",
    "        print(str(b)+' is greater')\n",
    "    else:\n",
    "        print(str(c)+' is greater')\n",
    "\n"
   ]
  },
  {
   "cell_type": "markdown",
   "id": "6f51b557",
   "metadata": {},
   "source": []
  },
  {
   "cell_type": "code",
   "execution_count": null,
   "id": "8dc3a0a1",
   "metadata": {},
   "outputs": [],
   "source": [
    "i=1\n",
    "while i<=100:\n",
    "    if (i%4!=0) and (i%7!=0):\n",
    "        print(i)\n",
    "    i=i+1"
   ]
  },
  {
   "cell_type": "code",
   "execution_count": null,
   "id": "903606d1",
   "metadata": {},
   "outputs": [],
   "source": [
    "a = int(input('Enter the number '))\n",
    "i=0\n",
    "sum=0\n",
    "while i<=a:\n",
    "    sum=sum+i\n",
    "    i=i+1\n",
    "print(str(sum))"
   ]
  },
  {
   "cell_type": "code",
   "execution_count": null,
   "id": "f8492278",
   "metadata": {},
   "outputs": [],
   "source": [
    "i=1\n",
    "while i<=100:\n",
    "    if i%2==0:\n",
    "        print(i)\n",
    "    i=i+1\n",
    "\n"
   ]
  },
  {
   "cell_type": "code",
   "execution_count": null,
   "id": "be9baaf9",
   "metadata": {},
   "outputs": [],
   "source": [
    "i=0\n",
    "while i<=100:\n",
    "    if i%2!=0:\n",
    "        print(i)\n",
    "    i=i+1\n",
    "\n"
   ]
  },
  {
   "cell_type": "code",
   "execution_count": 1,
   "id": "d6401961",
   "metadata": {},
   "outputs": [
    {
     "name": "stdout",
     "output_type": "stream",
     "text": [
      "* * * * * \n",
      "* * * * * \n",
      "* * * * * \n",
      "* * * * * \n",
      "* * * * * \n"
     ]
    }
   ],
   "source": [
    "i=0\n",
    "j=0\n",
    "for i in range(0,5):\n",
    "    for j in range(0,5):\n",
    "        print('*',end=' ')\n",
    "    print()\n",
    "    "
   ]
  },
  {
   "cell_type": "code",
   "execution_count": 2,
   "id": "512e8d41",
   "metadata": {},
   "outputs": [
    {
     "name": "stdout",
     "output_type": "stream",
     "text": [
      "* \n",
      "* * \n",
      "* * * \n",
      "* * * * \n",
      "* * * * * \n"
     ]
    }
   ],
   "source": [
    "i=0\n",
    "j=0\n",
    "for i in range(0,5):\n",
    "    for j in range(0,i+1):\n",
    "        print('*',end=' ')\n",
    "    print()\n",
    "    "
   ]
  },
  {
   "cell_type": "code",
   "execution_count": 3,
   "id": "d26a2f61",
   "metadata": {},
   "outputs": [
    {
     "name": "stdout",
     "output_type": "stream",
     "text": [
      "* * * * * \n",
      "* * * * \n",
      "* * * \n",
      "* * \n",
      "* \n"
     ]
    }
   ],
   "source": [
    "i=0\n",
    "j=0\n",
    "for i in range(0,5):\n",
    "    for j in range(i+1,6):\n",
    "        print('*',end=' ')\n",
    "    print()\n",
    "    "
   ]
  },
  {
   "cell_type": "code",
   "execution_count": 4,
   "id": "f0b3257a",
   "metadata": {},
   "outputs": [
    {
     "name": "stdout",
     "output_type": "stream",
     "text": [
      "1 2 3 4 \n",
      "2 3 4 \n",
      "3 4 \n",
      "4 \n",
      "\n"
     ]
    }
   ],
   "source": [
    "i=0\n",
    "j=0\n",
    "for i in range(0,5):\n",
    "    for j in range(i+1,5):\n",
    "        print(j,end=' ')\n",
    "    print()\n",
    "    "
   ]
  },
  {
   "cell_type": "code",
   "execution_count": null,
   "id": "39673453",
   "metadata": {},
   "outputs": [],
   "source": []
  }
 ],
 "metadata": {
  "kernelspec": {
   "display_name": "Python 3 (ipykernel)",
   "language": "python",
   "name": "python3"
  },
  "language_info": {
   "codemirror_mode": {
    "name": "ipython",
    "version": 3
   },
   "file_extension": ".py",
   "mimetype": "text/x-python",
   "name": "python",
   "nbconvert_exporter": "python",
   "pygments_lexer": "ipython3",
   "version": "3.9.7"
  }
 },
 "nbformat": 4,
 "nbformat_minor": 5
}
